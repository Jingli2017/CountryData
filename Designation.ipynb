{
 "cells": [
  {
   "cell_type": "code",
   "execution_count": 2,
   "metadata": {},
   "outputs": [],
   "source": [
    "import pandas as pd\n",
    "import numpy as np"
   ]
  },
  {
   "cell_type": "code",
   "execution_count": 10,
   "metadata": {},
   "outputs": [],
   "source": [
    "df_1 = pd.read_csv(\"~/Documents/df_5.csv\", encoding='latin1')"
   ]
  },
  {
   "cell_type": "code",
   "execution_count": 11,
   "metadata": {},
   "outputs": [],
   "source": [
    "df_2 = pd.read_csv(\"~/Documents/Designation.csv\", encoding='latin1')"
   ]
  },
  {
   "cell_type": "code",
   "execution_count": 12,
   "metadata": {},
   "outputs": [],
   "source": [
    "# merge base on basecountry and country\n",
    "\n",
    "for i in range(1, 11):\n",
    "    df_2.columns = [\"b\"+str(i), \"group\", \"year\", \"Designation\"+str(i)]\n",
    "    df_1 = pd.merge(df_1, df_2, on=(\"b\"+str(i), \"group\", \"year\"), how='left')"
   ]
  },
  {
   "cell_type": "code",
   "execution_count": 13,
   "metadata": {},
   "outputs": [
    {
     "name": "stdout",
     "output_type": "stream",
     "text": [
      "Index(['Unnamed: 0', 'Unnamed: 0.1', 'country', 'group', 'year', 'b1', 'b2',\n",
      "       'b3', 'b4', 'b5',\n",
      "       ...\n",
      "       'Designation1', 'Designation2', 'Designation3', 'Designation4',\n",
      "       'Designation5', 'Designation6', 'Designation7', 'Designation8',\n",
      "       'Designation9', 'Designation10'],\n",
      "      dtype='object', length=176)\n"
     ]
    }
   ],
   "source": [
    "print(df_1.columns)"
   ]
  },
  {
   "cell_type": "code",
   "execution_count": 14,
   "metadata": {},
   "outputs": [],
   "source": [
    "df_1.to_csv(\"~/Documents/Designation_1.csv\")"
   ]
  },
  {
   "cell_type": "code",
   "execution_count": 15,
   "metadata": {},
   "outputs": [],
   "source": [
    "df_1 = df_1.fillna(0)"
   ]
  },
  {
   "cell_type": "code",
   "execution_count": 17,
   "metadata": {},
   "outputs": [],
   "source": [
    "# Add 1xy + Designation_1 == 2 \n",
    "\n",
    "for i in range(1, 11):\n",
    "    df_1[\"xy_Desig\"+str(i)] = df_1[str(i)+\"xy\"] + df_1[\"Designation\"+str(i)]"
   ]
  },
  {
   "cell_type": "code",
   "execution_count": 18,
   "metadata": {},
   "outputs": [
    {
     "name": "stdout",
     "output_type": "stream",
     "text": [
      "Index(['Unnamed: 0', 'Unnamed: 0.1', 'country', 'group', 'year', 'b1', 'b2',\n",
      "       'b3', 'b4', 'b5',\n",
      "       ...\n",
      "       'xy_Desig1', 'xy_Desig2', 'xy_Desig3', 'xy_Desig4', 'xy_Desig5',\n",
      "       'xy_Desig6', 'xy_Desig7', 'xy_Desig8', 'xy_Desig9', 'xy_Desig10'],\n",
      "      dtype='object', length=186)\n"
     ]
    }
   ],
   "source": [
    "print(df_1.columns)"
   ]
  },
  {
   "cell_type": "code",
   "execution_count": 20,
   "metadata": {},
   "outputs": [],
   "source": [
    "for i in range(1, 11):\n",
    "    df_1.loc[df_1[\"xy_Desig\"+str(i)] != 2, \"xy_Desig\"+str(i)] = 0"
   ]
  },
  {
   "cell_type": "code",
   "execution_count": 21,
   "metadata": {},
   "outputs": [],
   "source": [
    "for i in range(1, 11):\n",
    "    df_1.loc[df_1[\"xy_Desig\"+str(i)] == 2, \"xy_Desig\"+str(i)] = 1"
   ]
  },
  {
   "cell_type": "code",
   "execution_count": 22,
   "metadata": {},
   "outputs": [],
   "source": [
    "df_1.to_csv(\"~/Documents/Designation_2.csv\")"
   ]
  },
  {
   "cell_type": "code",
   "execution_count": 24,
   "metadata": {},
   "outputs": [],
   "source": [
    "# Summary the Designation \n",
    "\n",
    "df_1[\"xy_designation_summary\"] = df_1[\"xy_Desig1\"]\n",
    "for i in range(2, 11):\n",
    "    df_1[\"xy_designation_summary\"] += df_1[\"xy_Desig\"+str(i)] "
   ]
  },
  {
   "cell_type": "code",
   "execution_count": 26,
   "metadata": {},
   "outputs": [],
   "source": [
    "df_1.loc[df_1.xy_designation_summary >= 1, 'xy_designation_summary'] = 1"
   ]
  },
  {
   "cell_type": "code",
   "execution_count": 27,
   "metadata": {},
   "outputs": [],
   "source": [
    "df_1.to_csv(\"~/Documents/Designation_3.csv\")"
   ]
  },
  {
   "cell_type": "code",
   "execution_count": null,
   "metadata": {},
   "outputs": [],
   "source": []
  }
 ],
 "metadata": {
  "kernelspec": {
   "display_name": "jvenv",
   "language": "python",
   "name": "jvenv"
  },
  "language_info": {
   "codemirror_mode": {
    "name": "ipython",
    "version": 3
   },
   "file_extension": ".py",
   "mimetype": "text/x-python",
   "name": "python",
   "nbconvert_exporter": "python",
   "pygments_lexer": "ipython3",
   "version": "3.6.5"
  }
 },
 "nbformat": 4,
 "nbformat_minor": 2
}
