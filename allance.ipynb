{
 "cells": [
  {
   "cell_type": "code",
   "execution_count": 22,
   "metadata": {},
   "outputs": [],
   "source": [
    "import pandas as pd\n",
    "import numpy as np"
   ]
  },
  {
   "cell_type": "code",
   "execution_count": 23,
   "metadata": {},
   "outputs": [],
   "source": [
    "df_1 = pd.read_csv(\"~/Documents/Data_ver4.csv\", encoding='latin1')"
   ]
  },
  {
   "cell_type": "code",
   "execution_count": 24,
   "metadata": {},
   "outputs": [],
   "source": [
    "df_1 = df_1[[\"Country_Name\", \"GroupName\", \"Year\", \"basecountry1\", \"basecountry2\", \"basecountry3\", \"basecountry4\", \"basecountry5\", \"basecountry6\", \"basecountry7\", \"basecountry8\", \"basecountry9\", \"basecountry10\"]]\n"
   ]
  },
  {
   "cell_type": "code",
   "execution_count": 25,
   "metadata": {},
   "outputs": [],
   "source": [
    "df_1.columns = [\"country\", \"group\", \"year\", \"b1\", \"b2\", \"b3\", \"b4\", \"b5\", \"b6\", \"b7\", \"b8\", \"b9\", \"b10\"]"
   ]
  },
  {
   "cell_type": "code",
   "execution_count": 26,
   "metadata": {},
   "outputs": [
    {
     "name": "stdout",
     "output_type": "stream",
     "text": [
      "(430092, 13)\n"
     ]
    }
   ],
   "source": [
    "print(df_1.shape)"
   ]
  },
  {
   "cell_type": "code",
   "execution_count": 27,
   "metadata": {},
   "outputs": [],
   "source": [
    "df_mer = df_1"
   ]
  },
  {
   "cell_type": "code",
   "execution_count": 28,
   "metadata": {},
   "outputs": [
    {
     "name": "stdout",
     "output_type": "stream",
     "text": [
      "(430092, 13)\n"
     ]
    }
   ],
   "source": [
    "print(df_mer.shape)"
   ]
  },
  {
   "cell_type": "code",
   "execution_count": 35,
   "metadata": {},
   "outputs": [],
   "source": [
    "df_2 = pd.read_csv(\"~/Documents/final_alliance.csv\")"
   ]
  },
  {
   "cell_type": "code",
   "execution_count": 36,
   "metadata": {},
   "outputs": [],
   "source": [
    "df_2 = df_2[[\"state_name2\", \"state_name1\", \"date\", \"defense\", \"neutrality\", \"nonaggression\", \"entente\"]]"
   ]
  },
  {
   "cell_type": "code",
   "execution_count": 37,
   "metadata": {},
   "outputs": [],
   "source": [
    "for i in range(1, 11):\n",
    "    df_2.columns = [\"country\", \"b\"+str(i), \"year\", str(i)+\"_defense\", str(i)+\"_neutrality\", str(i)+\"_nonaggression\", str(i)+\"_entente\"]\n",
    "    df_mer = pd.merge(df_mer, df_2, on=(\"year\", \"country\", \"b\"+str(i)), how='left')\n",
    "    \n",
    "    "
   ]
  },
  {
   "cell_type": "code",
   "execution_count": 38,
   "metadata": {},
   "outputs": [
    {
     "name": "stdout",
     "output_type": "stream",
     "text": [
      "(430092, 103)\n"
     ]
    }
   ],
   "source": [
    "print(df_mer.shape)"
   ]
  },
  {
   "cell_type": "code",
   "execution_count": 39,
   "metadata": {},
   "outputs": [],
   "source": [
    "df_mer.to_csv(\"~/Documents/process_2.csv\")"
   ]
  },
  {
   "cell_type": "code",
   "execution_count": 33,
   "metadata": {},
   "outputs": [],
   "source": [
    "for i in range(1, 11):\n",
    "    df_mer[str(i)] = np.where(df_mer[str(i)+'_defense']==df_mer[str(i)+'_defense'], 1, 0)"
   ]
  },
  {
   "cell_type": "code",
   "execution_count": 34,
   "metadata": {},
   "outputs": [
    {
     "name": "stdout",
     "output_type": "stream",
     "text": [
      "Index(['country', 'group', 'year', 'b1', 'b2', 'b3', 'b4', 'b5', 'b6', 'b7',\n",
      "       'b8', 'b9', 'b10', '1_defense', '1_neutrality', '1_nonaggression',\n",
      "       '1_entente', '2_defense', '2_neutrality', '2_nonaggression',\n",
      "       '2_entente', '3_defense', '3_neutrality', '3_nonaggression',\n",
      "       '3_entente', '4_defense', '4_neutrality', '4_nonaggression',\n",
      "       '4_entente', '5_defense', '5_neutrality', '5_nonaggression',\n",
      "       '5_entente', '6_defense', '6_neutrality', '6_nonaggression',\n",
      "       '6_entente', '7_defense', '7_neutrality', '7_nonaggression',\n",
      "       '7_entente', '8_defense', '8_neutrality', '8_nonaggression',\n",
      "       '8_entente', '9_defense', '9_neutrality', '9_nonaggression',\n",
      "       '9_entente', '10_defense', '10_neutrality', '10_nonaggression',\n",
      "       '10_entente', '1', '2', '3', '4', '5', '6', '7', '8', '9', '10'],\n",
      "      dtype='object')\n"
     ]
    }
   ],
   "source": [
    "print(df_mer.columns)"
   ]
  },
  {
   "cell_type": "code",
   "execution_count": 15,
   "metadata": {},
   "outputs": [],
   "source": [
    "df_mer = df_mer[['country', 'group', 'year', 'b1', '1', '1_defense', '1_neutrality', '1_nonaggression', '1_entente',\n",
    "                                    'b2', '2', '2_defense', '2_neutrality', '2_nonaggression', '2_entente',\n",
    "                                    'b3', '3', '3_defense', '3_neutrality', '3_nonaggression', '3_entente',\n",
    "                                    'b4', '4', '4_defense', '4_neutrality', '4_nonaggression', '4_entente',\n",
    "                                    'b5', '5', '5_defense', '5_neutrality', '5_nonaggression', '5_entente',\n",
    "                                    'b6', '6', '6_defense', '6_neutrality', '6_nonaggression', '6_entente',\n",
    "                                    'b7', '7', '7_defense', '7_neutrality', '7_nonaggression', '7_entente'\n",
    "       ]]"
   ]
  },
  {
   "cell_type": "code",
   "execution_count": 16,
   "metadata": {},
   "outputs": [],
   "source": [
    "df_mer.to_csv(\"~/Documents/Done_add_7_reorder_reverse.csv\")"
   ]
  },
  {
   "cell_type": "code",
   "execution_count": 23,
   "metadata": {},
   "outputs": [
    {
     "name": "stdout",
     "output_type": "stream",
     "text": [
      "(403572, 45)\n"
     ]
    }
   ],
   "source": [
    "print(df_mer.shape)"
   ]
  },
  {
   "cell_type": "code",
   "execution_count": null,
   "metadata": {},
   "outputs": [],
   "source": []
  }
 ],
 "metadata": {
  "kernelspec": {
   "display_name": "jvenv",
   "language": "python",
   "name": "jvenv"
  },
  "language_info": {
   "codemirror_mode": {
    "name": "ipython",
    "version": 3
   },
   "file_extension": ".py",
   "mimetype": "text/x-python",
   "name": "python",
   "nbconvert_exporter": "python",
   "pygments_lexer": "ipython3",
   "version": "3.6.5"
  }
 },
 "nbformat": 4,
 "nbformat_minor": 2
}
