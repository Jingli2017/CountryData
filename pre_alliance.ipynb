{
 "cells": [
  {
   "cell_type": "code",
   "execution_count": 1,
   "metadata": {},
   "outputs": [],
   "source": [
    "import pandas as pd\n",
    "import numpy as np"
   ]
  },
  {
   "cell_type": "code",
   "execution_count": 2,
   "metadata": {},
   "outputs": [],
   "source": [
    "df = pd.read_csv(\"~/Documents/alliance.csv\")"
   ]
  },
  {
   "cell_type": "code",
   "execution_count": 3,
   "metadata": {},
   "outputs": [
    {
     "name": "stdout",
     "output_type": "stream",
     "text": [
      "(74129, 19)\n"
     ]
    }
   ],
   "source": [
    "print(df.shape)"
   ]
  },
  {
   "cell_type": "code",
   "execution_count": 4,
   "metadata": {},
   "outputs": [],
   "source": [
    "df = df.drop_duplicates(('state_name1', 'state_name2', 'dyad_st_year', 'dyad_end_year', \n",
    "                         'dyad_st_day', 'dyad_st_month', 'dyad_end_day', 'dyad_end_month', \n",
    "                         'defense', 'neutrality', 'nonaggression', 'entente'))"
   ]
  },
  {
   "cell_type": "code",
   "execution_count": 5,
   "metadata": {},
   "outputs": [
    {
     "name": "stdout",
     "output_type": "stream",
     "text": [
      "(3222, 19)\n"
     ]
    }
   ],
   "source": [
    "print(df.shape)"
   ]
  },
  {
   "cell_type": "code",
   "execution_count": 6,
   "metadata": {},
   "outputs": [],
   "source": [
    "dates = [range(r[0],r[1]+1) for r in df[['dyad_st_year','dyad_end_year']].values]\n",
    "lens = [len(x) for x in dates]\n",
    "\n",
    "r = pd.DataFrame(\n",
    "        {col:np.repeat(df[col].values, lens) for col in df.columns}\n",
    "    ).assign(date=np.concatenate(dates))"
   ]
  },
  {
   "cell_type": "code",
   "execution_count": 7,
   "metadata": {},
   "outputs": [
    {
     "name": "stdout",
     "output_type": "stream",
     "text": [
      "   version4id  ccode1     state_name1  ccode2 state_name2  dyad_st_day  \\\n",
      "0           1     200  United Kingdom     235    Portugal            1   \n",
      "1           1     200  United Kingdom     235    Portugal            1   \n",
      "2           1     200  United Kingdom     235    Portugal            1   \n",
      "3           1     200  United Kingdom     235    Portugal            1   \n",
      "4           1     200  United Kingdom     235    Portugal            1   \n",
      "\n",
      "   dyad_st_month  dyad_st_year  dyad_end_day  dyad_end_month  dyad_end_year  \\\n",
      "0              1          1816           NaN             NaN           2012   \n",
      "1              1          1816           NaN             NaN           2012   \n",
      "2              1          1816           NaN             NaN           2012   \n",
      "3              1          1816           NaN             NaN           2012   \n",
      "4              1          1816           NaN             NaN           2012   \n",
      "\n",
      "   left_censor  right_censor  defense  neutrality  nonaggression  entente  \\\n",
      "0            1             1        1           0            1.0      0.0   \n",
      "1            1             1        1           0            1.0      0.0   \n",
      "2            1             1        1           0            1.0      0.0   \n",
      "3            1             1        1           0            1.0      0.0   \n",
      "4            1             1        1           0            1.0      0.0   \n",
      "\n",
      "   year  version  date  \n",
      "0  1816      4.1  1816  \n",
      "1  1816      4.1  1817  \n",
      "2  1816      4.1  1818  \n",
      "3  1816      4.1  1819  \n",
      "4  1816      4.1  1820  \n"
     ]
    }
   ],
   "source": [
    "print(r.head())"
   ]
  },
  {
   "cell_type": "code",
   "execution_count": 8,
   "metadata": {},
   "outputs": [],
   "source": [
    "r = r.astype({\"date\": int})"
   ]
  },
  {
   "cell_type": "code",
   "execution_count": 9,
   "metadata": {
    "scrolled": true
   },
   "outputs": [
    {
     "name": "stdout",
     "output_type": "stream",
     "text": [
      "(74129, 20)\n"
     ]
    }
   ],
   "source": [
    "print(r.shape)"
   ]
  },
  {
   "cell_type": "code",
   "execution_count": 10,
   "metadata": {},
   "outputs": [],
   "source": [
    "r.to_csv(\"~/Documents/pre_alliance.csv\")"
   ]
  },
  {
   "cell_type": "code",
   "execution_count": 11,
   "metadata": {},
   "outputs": [],
   "source": [
    "r_sub = r[['state_name1', 'state_name2', 'date',\n",
    "                         'defense', 'neutrality', 'nonaggression', 'entente']]"
   ]
  },
  {
   "cell_type": "code",
   "execution_count": 12,
   "metadata": {},
   "outputs": [
    {
     "name": "stdout",
     "output_type": "stream",
     "text": [
      "(74129, 7)\n"
     ]
    }
   ],
   "source": [
    "print(r_sub.shape)"
   ]
  },
  {
   "cell_type": "code",
   "execution_count": 13,
   "metadata": {},
   "outputs": [],
   "source": [
    "r_sub = r_sub.groupby(by=(['state_name1', 'state_name2', 'date'])).agg({'defense': 'sum',\n",
    "                              'neutrality': 'sum',\n",
    "                              'nonaggression': 'sum',\n",
    "                              'entente': 'sum'}).reset_index()"
   ]
  },
  {
   "cell_type": "code",
   "execution_count": 14,
   "metadata": {},
   "outputs": [
    {
     "name": "stdout",
     "output_type": "stream",
     "text": [
      "(60372, 7)\n"
     ]
    }
   ],
   "source": [
    "print(r_sub.shape)"
   ]
  },
  {
   "cell_type": "code",
   "execution_count": 15,
   "metadata": {},
   "outputs": [],
   "source": [
    "r_sub = r_sub.astype({\"defense\": int, \"neutrality\": int, \"nonaggression\": int, \"entente\": int,})"
   ]
  },
  {
   "cell_type": "code",
   "execution_count": 16,
   "metadata": {},
   "outputs": [],
   "source": [
    "r_sub.loc[r_sub.defense > 1, 'defense'] = 1\n",
    "r_sub.loc[r_sub.neutrality > 1, 'neutrality'] = 1\n",
    "r_sub.loc[r_sub.nonaggression > 1, 'nonaggression'] = 1\n",
    "r_sub.loc[r_sub.entente > 1, 'entente'] = 1"
   ]
  },
  {
   "cell_type": "code",
   "execution_count": 17,
   "metadata": {},
   "outputs": [],
   "source": [
    "r_sub.to_csv(\"~/Documents/final_alliance.csv\")"
   ]
  },
  {
   "cell_type": "code",
   "execution_count": null,
   "metadata": {},
   "outputs": [],
   "source": []
  }
 ],
 "metadata": {
  "kernelspec": {
   "display_name": "jvenv",
   "language": "python",
   "name": "jvenv"
  },
  "language_info": {
   "codemirror_mode": {
    "name": "ipython",
    "version": 3
   },
   "file_extension": ".py",
   "mimetype": "text/x-python",
   "name": "python",
   "nbconvert_exporter": "python",
   "pygments_lexer": "ipython3",
   "version": "3.6.5"
  }
 },
 "nbformat": 4,
 "nbformat_minor": 2
}
