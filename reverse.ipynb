{
 "cells": [
  {
   "cell_type": "code",
   "execution_count": 10,
   "metadata": {},
   "outputs": [],
   "source": [
    "import pandas as pd\n",
    "import numpy as np"
   ]
  },
  {
   "cell_type": "code",
   "execution_count": 29,
   "metadata": {},
   "outputs": [],
   "source": [
    "d = ({\n",
    "    'Day' : [np.nan,'Tues','Wed','Wed','Thurs','Thurs','Fri','Mon','Sat','Fri','Sun'],                 \n",
    "    'Location' : [1,'Home','Away','Home','Away','Home','Home','Home','Home','Away','Home'],        \n",
    "    })\n",
    "\n",
    "df = pd.DataFrame(data=d)"
   ]
  },
  {
   "cell_type": "code",
   "execution_count": 30,
   "metadata": {},
   "outputs": [],
   "source": [
    "df = df.fillna(0)"
   ]
  },
  {
   "cell_type": "code",
   "execution_count": 31,
   "metadata": {},
   "outputs": [
    {
     "name": "stdout",
     "output_type": "stream",
     "text": [
      "      Day Location\n",
      "0       0        1\n",
      "1    Tues     Home\n",
      "2     Wed     Away\n",
      "3     Wed     Home\n",
      "4   Thurs     Away\n",
      "5   Thurs     Home\n",
      "6     Fri     Home\n",
      "7     Mon     Home\n",
      "8     Sat     Home\n",
      "9     Fri     Away\n",
      "10    Sun     Home\n"
     ]
    }
   ],
   "source": [
    "print(df)"
   ]
  },
  {
   "cell_type": "code",
   "execution_count": 32,
   "metadata": {},
   "outputs": [],
   "source": [
    "df[\"plus\"] = df[\"Day\"] + df[\"Location\"]"
   ]
  },
  {
   "cell_type": "code",
   "execution_count": 33,
   "metadata": {},
   "outputs": [
    {
     "name": "stdout",
     "output_type": "stream",
     "text": [
      "      Day Location       plus\n",
      "0       0        1          1\n",
      "1    Tues     Home   TuesHome\n",
      "2     Wed     Away    WedAway\n",
      "3     Wed     Home    WedHome\n",
      "4   Thurs     Away  ThursAway\n",
      "5   Thurs     Home  ThursHome\n",
      "6     Fri     Home    FriHome\n",
      "7     Mon     Home    MonHome\n",
      "8     Sat     Home    SatHome\n",
      "9     Fri     Away    FriAway\n",
      "10    Sun     Home    SunHome\n"
     ]
    }
   ],
   "source": [
    "print(df)"
   ]
  },
  {
   "cell_type": "code",
   "execution_count": 41,
   "metadata": {},
   "outputs": [],
   "source": [
    "df_1 = pd.read_csv(\"~/Documents/process_2.csv\", encoding='latin1')"
   ]
  },
  {
   "cell_type": "code",
   "execution_count": 42,
   "metadata": {},
   "outputs": [],
   "source": [
    "for i in range(1, 11):\n",
    "    df_1[str(i)+\"y\"] = np.where(df_1[str(i)+'_defense'+\"_y\"]==df_1[str(i)+'_defense'+\"_y\"], 1, 0)"
   ]
  },
  {
   "cell_type": "code",
   "execution_count": 43,
   "metadata": {},
   "outputs": [],
   "source": [
    "for i in range(1, 11):\n",
    "    df_1[str(i)+\"xy\"] = df_1[str(i)] + df_1[str(i)+\"y\"]"
   ]
  },
  {
   "cell_type": "code",
   "execution_count": 32,
   "metadata": {},
   "outputs": [],
   "source": [
    "df_1.to_csv(\"~/Documents/df_1.csv\")"
   ]
  },
  {
   "cell_type": "code",
   "execution_count": 44,
   "metadata": {},
   "outputs": [],
   "source": [
    "df_1 = df_1.fillna(0)"
   ]
  },
  {
   "cell_type": "code",
   "execution_count": 45,
   "metadata": {},
   "outputs": [
    {
     "name": "stdout",
     "output_type": "stream",
     "text": [
      "Index(['Unnamed: 0', 'country', 'group', 'year', 'b1', 'b2', 'b3', 'b4', 'b5',\n",
      "       'b6',\n",
      "       ...\n",
      "       '1xy', '2xy', '3xy', '4xy', '5xy', '6xy', '7xy', '8xy', '9xy', '10xy'],\n",
      "      dtype='object', length=124)\n"
     ]
    }
   ],
   "source": [
    "print(df_1.columns)"
   ]
  },
  {
   "cell_type": "code",
   "execution_count": 46,
   "metadata": {},
   "outputs": [],
   "source": [
    "for i in range(1, 11):\n",
    "    df_1[str(i)+\"_defense\"] = df_1[str(i)+\"_defense_x\"] + df_1[str(i)+\"_defense_y\"]\n",
    "    df_1[str(i)+\"_neutrality\"] = df_1[str(i)+\"_neutrality_x\"] + df_1[str(i)+\"_neutrality_y\"]\n",
    "    df_1[str(i)+\"_nonaggression\"] = df_1[str(i)+\"_nonaggression_x\"] + df_1[str(i)+\"_nonaggression_y\"]\n",
    "    df_1[str(i)+\"_entente\"] = df_1[str(i)+\"_entente_x\"] + df_1[str(i)+\"_entente_y\"]"
   ]
  },
  {
   "cell_type": "code",
   "execution_count": 36,
   "metadata": {},
   "outputs": [],
   "source": [
    "df_1.to_csv(\"~/Documents/df_2.csv\")"
   ]
  },
  {
   "cell_type": "code",
   "execution_count": 47,
   "metadata": {},
   "outputs": [],
   "source": [
    "df_2 = df_1"
   ]
  },
  {
   "cell_type": "code",
   "execution_count": 38,
   "metadata": {},
   "outputs": [],
   "source": [
    "for i in range(1, 11):\n",
    "    df_2.loc[df_2[str(i)+\"xy\"] == 0, [str(i)+'_defense', str(i)+'_neutrality', str(i)+'_nonaggression', str(i)+'_entente']] = np.nan, np.nan, np.nan, np.nan\n",
    "    "
   ]
  },
  {
   "cell_type": "code",
   "execution_count": 39,
   "metadata": {},
   "outputs": [],
   "source": [
    "df_2.to_csv(\"~/Documents/df_3.csv\")"
   ]
  },
  {
   "cell_type": "code",
   "execution_count": 40,
   "metadata": {},
   "outputs": [],
   "source": [
    "for i in range(1, 11):\n",
    "    df_2.loc[df_2[\"b\"+str(i)] == 0, str(i)+\"xy\"] = np.nan"
   ]
  },
  {
   "cell_type": "code",
   "execution_count": 22,
   "metadata": {},
   "outputs": [],
   "source": [
    "df_2.to_csv(\"~/Documents/df_4.csv\")"
   ]
  },
  {
   "cell_type": "code",
   "execution_count": 48,
   "metadata": {},
   "outputs": [],
   "source": [
    "# Summary the xy \n",
    "\n",
    "df_2[\"alliance_summary\"] = df_2[\"1xy\"]\n",
    "for i in range(2, 11):\n",
    "    df_2[\"alliance_summary\"] += df_2[str(i)+\"xy\"] "
   ]
  },
  {
   "cell_type": "code",
   "execution_count": 49,
   "metadata": {},
   "outputs": [],
   "source": [
    "df_2.loc[df_2.alliance_summary >= 1, 'alliance_summary'] = 1"
   ]
  },
  {
   "cell_type": "code",
   "execution_count": 50,
   "metadata": {},
   "outputs": [],
   "source": [
    "df_2.to_csv(\"~/Documents/df_5.csv\")"
   ]
  },
  {
   "cell_type": "code",
   "execution_count": null,
   "metadata": {},
   "outputs": [],
   "source": []
  }
 ],
 "metadata": {
  "kernelspec": {
   "display_name": "jvenv",
   "language": "python",
   "name": "jvenv"
  },
  "language_info": {
   "codemirror_mode": {
    "name": "ipython",
    "version": 3
   },
   "file_extension": ".py",
   "mimetype": "text/x-python",
   "name": "python",
   "nbconvert_exporter": "python",
   "pygments_lexer": "ipython3",
   "version": "3.6.5"
  }
 },
 "nbformat": 4,
 "nbformat_minor": 2
}
